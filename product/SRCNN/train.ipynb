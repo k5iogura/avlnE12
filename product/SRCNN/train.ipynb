{
 "cells": [
  {
   "cell_type": "markdown",
   "metadata": {},
   "source": [
    "# SRCNN Super Resolution CNN with pytorch  \n",
    "Training ipython for General100 Ddataset.  \n",
    "Exercise for Product making.  \n",
    "初期設定  "
   ]
  },
  {
   "cell_type": "code",
   "execution_count": null,
   "metadata": {},
   "outputs": [],
   "source": [
    "\n",
    "import os, sys\n",
    "from pathlib import Path\n",
    "\n",
    "result_fileout=True  #To fileout\n",
    "\n",
    "result_dir=Path('result')\n",
    "sample_dir = result_dir / 'sample'\n",
    "weight_dir = result_dir / 'weights'\n",
    "os.makedirs(str(sample_dir), exist_ok=True)\n",
    "os.makedirs(str(weight_dir), exist_ok=True)\n",
    "os.makedirs(str(result_dir),exist_ok=True)\n",
    "backup_stdout = backup_stderr = None\n",
    "if result_fileout:\n",
    "    backup_stdout = sys.stdout\n",
    "    backup_stderr = sys.stderr\n",
    "    sys.stdout = open(str(result_dir)+'/log.stdout','w')\n",
    "    sys.stderr = open(str(result_dir)+'/log.stderr','w')\n",
    "\n",
    "import torch\n",
    "from torch import nn\n",
    "from torch import optim\n",
    "from torch.utils.data import DataLoader\n",
    "from torch.autograd import Variable\n",
    "from torchvision.utils import save_image\n",
    "# from tensorboardX import SummaryWriter\n",
    "\n",
    "from math import log10\n",
    "\n",
    "# from model import SRCNN\n",
    "from torch.nn.functional import relu\n",
    "from torch.nn import MSELoss\n",
    "\n",
    "from dataset import DatasetFromFolder, DatasetFromFolderEval\n",
    "\n",
    "import argparse\n",
    "\n",
    "parser = argparse.ArgumentParser(description='predictionCNN Example')\n",
    "parser.add_argument('--cuda', action='store_true', default=False)\n",
    "# opt = parser.parse_args()  # for terminal\n",
    "# opt = parser.parse_args(args=[\"--cuda\"])\n",
    "opt = parser.parse_args(args=[])"
   ]
  },
  {
   "cell_type": "markdown",
   "metadata": {},
   "source": [
    "データ準備  \n",
    "ログ設定  "
   ]
  },
  {
   "cell_type": "code",
   "execution_count": null,
   "metadata": {},
   "outputs": [],
   "source": [
    "train_set = DatasetFromFolder(image_dir='./data/General-100/train', patch_size=96, scale_factor=4, data_augmentation=True)\n",
    "train_loader = DataLoader(dataset=train_set, batch_size=10, shuffle=True)\n",
    "\n",
    "val_set = DatasetFromFolderEval(image_dir='./data/General-100/val', scale_factor=4)\n",
    "val_loader = DataLoader(dataset=val_set, batch_size=1, shuffle=False)\n",
    "\n",
    "# writer = SummaryWriter(log_dir=\"./log\")\n",
    "#log_dir = Path(writer.log_dir)\n",
    "# log_dir = Path(\"./log\")\n",
    "# sample_dir = log_dir / 'sample'\n",
    "# weight_dir = log_dir / 'weights'\n",
    "# os.makedirs(sample_dir, exist_ok=True)\n",
    "# os.makedirs(weight_dir, exist_ok=True)"
   ]
  },
  {
   "cell_type": "markdown",
   "metadata": {},
   "source": [
    "SRCNNモデル定義  "
   ]
  },
  {
   "cell_type": "code",
   "execution_count": null,
   "metadata": {},
   "outputs": [],
   "source": [
    "class SRCNN(nn.Module):\n",
    "    def __init__(self):\n",
    "        super(SRCNN, self).__init__()\n",
    "        self.conv1 = nn.Conv2d(in_channels=3, out_channels=64, kernel_size=9, padding=4)\n",
    "        self.conv2 = nn.Conv2d(in_channels=64, out_channels=32, kernel_size=1, padding=0)\n",
    "        self.conv3 = nn.Conv2d(in_channels=32, out_channels=3, kernel_size=5, padding=2)\n",
    "\n",
    "        for m in self.modules():\n",
    "            if isinstance(m, (nn.Conv2d)):\n",
    "                nn.init.normal_(m.weight, mean=0, std=0.001)\n",
    "                nn.init.constant_(m.bias, val=0)\n",
    "\n",
    "    def forward(self, x):\n",
    "        x = self.conv1(x)\n",
    "        x = relu(x)\n",
    "        x = self.conv2(x)\n",
    "        x = relu(x)\n",
    "        x = self.conv3(x)\n",
    "        return x"
   ]
  },
  {
   "cell_type": "markdown",
   "metadata": {},
   "source": [
    "モデルインスタンス  \n",
    "オプティマイザ定義  "
   ]
  },
  {
   "cell_type": "code",
   "execution_count": null,
   "metadata": {},
   "outputs": [],
   "source": [
    "model = SRCNN()\n",
    "criterion = MSELoss()\n",
    "if opt.cuda:\n",
    "    model = model.cuda()\n",
    "    criterion = criterion.cuda()\n",
    "\n",
    "optimizer = optim.Adam([{'params': model.conv1.parameters()},\n",
    "                        {'params': model.conv2.parameters()},\n",
    "                        {'params': model.conv3.parameters(), 'lr': 1e-5}],\n",
    "                        lr=1e-4)"
   ]
  },
  {
   "cell_type": "markdown",
   "metadata": {},
   "source": [
    "学習ループ  "
   ]
  },
  {
   "cell_type": "code",
   "execution_count": null,
   "metadata": {
    "scrolled": false
   },
   "outputs": [],
   "source": [
    "for epoch in range(50000):\n",
    "    model.train()\n",
    "    epoch_loss, epoch_psnr = 0, 0\n",
    "    for batch in train_loader:\n",
    "        inputs, targets = Variable(batch[0]), Variable(batch[1])\n",
    "        if opt.cuda:\n",
    "            inputs = inputs.cuda()\n",
    "            targets = targets.cuda()\n",
    "\n",
    "        optimizer.zero_grad()\n",
    "        prediction = model(inputs)\n",
    "        loss = criterion(prediction, targets)\n",
    "        epoch_loss += loss.data\n",
    "        epoch_psnr += 10 * log10(1 / loss.data)\n",
    "\n",
    "        loss.backward()\n",
    "        optimizer.step()\n",
    "\n",
    "#     writer.add_scalar('train/loss', epoch_loss / len(train_loader), global_step=epoch)\n",
    "#     writer.add_scalar('train/psnr', epoch_psnr / len(train_loader), global_step=epoch)\n",
    "    print('[Epoch {}] Loss: {:.4f}, PSNR: {:.4f} dB'.format(epoch + 1, epoch_loss / len(train_loader), epoch_psnr / len(train_loader)))\n",
    "    sys.stdout.flush()\n",
    "\n",
    "    if (epoch + 1) % 300 != 0:\n",
    "        continue\n",
    "\n",
    "    model.eval()\n",
    "    val_loss, val_psnr = 0, 0\n",
    "    with torch.no_grad():\n",
    "        for batch in val_loader:\n",
    "            inputs, targets = batch[0], batch[1]\n",
    "            if opt.cuda:\n",
    "                inputs = inputs.cuda()\n",
    "                targets = targets.cuda()\n",
    "\n",
    "            prediction = model(inputs)\n",
    "            loss = criterion(prediction, targets)\n",
    "            val_loss += loss.data\n",
    "            val_psnr += 10 * log10(1 / loss.data)\n",
    "\n",
    "            save_image(prediction, sample_dir / '{}_epoch{:05}.png'.format(batch[2][0], epoch + 1), nrow=1)\n",
    "\n",
    "#     writer.add_scalar('val/loss', val_loss / len(val_loader), global_step=epoch)\n",
    "#     writer.add_scalar('val/psnr', val_psnr / len(val_loader), global_step=epoch)\n",
    "    print(\"===> Avg. Loss: {:.4f}, PSNR: {:.4f} dB\".format(val_loss / len(val_loader), val_psnr / len(val_loader)))\n",
    "\n",
    "    torch.save(model.state_dict(), str(weight_dir / 'weight_epoch{:05}.pth'.format(epoch + 1)))\n",
    "#   torch.save(model.state_dict(), str(result_dir / 'weight_epoch{:05}.pth'.format(epoch + 1)))"
   ]
  },
  {
   "cell_type": "code",
   "execution_count": null,
   "metadata": {},
   "outputs": [],
   "source": [
    "# retrieve stdio\n",
    "if result_fileout:\n",
    "    sys.stdout = backup_stdout if backup_stdout else None\n",
    "    sys.stderr = backup_stderr if backup_stderr else None"
   ]
  },
  {
   "cell_type": "code",
   "execution_count": null,
   "metadata": {},
   "outputs": [],
   "source": [
    "print('abc')"
   ]
  },
  {
   "cell_type": "code",
   "execution_count": null,
   "metadata": {},
   "outputs": [],
   "source": []
  }
 ],
 "metadata": {
  "kernelspec": {
   "display_name": "Python 3",
   "language": "python",
   "name": "python3"
  },
  "language_info": {
   "codemirror_mode": {
    "name": "ipython",
    "version": 3
   },
   "file_extension": ".py",
   "mimetype": "text/x-python",
   "name": "python",
   "nbconvert_exporter": "python",
   "pygments_lexer": "ipython3",
   "version": "3.8.5"
  }
 },
 "nbformat": 4,
 "nbformat_minor": 4
}
