{
 "cells": [
  {
   "cell_type": "code",
   "execution_count": 9,
   "metadata": {},
   "outputs": [],
   "source": [
    "import os\n",
    "from pathlib import Path\n",
    "import numpy as np\n",
    "import matplotlib.pyplot as plt\n",
    "\n",
    "dBhistory_file = 'dBhistory.npy'"
   ]
  },
  {
   "cell_type": "code",
   "execution_count": 11,
   "metadata": {},
   "outputs": [
    {
     "name": "stdout",
     "output_type": "stream",
     "text": [
      "SRCNN            28.696995dB\n",
      "SRCNN-naive      28.548201dB\n",
      "Loaded data files 2\n"
     ]
    },
    {
     "data": {
      "image/png": "[encoded data removed]",
      "text/plain": [
       "<Figure size 432x288 with 1 Axes>"
      ]
     },
     "metadata": {
      "needs_background": "light"
     },
     "output_type": "display_data"
    }
   ],
   "source": [
    "plot_type = 1  # 0:plot 1:scatter\n",
    "\n",
    "dBhistory_files = [str(d) for d in Path('result').glob('*/'+dBhistory_file)]\n",
    "resultdB = {}\n",
    "for dBhistory in dBhistory_files:\n",
    "    dB = np.load(dBhistory)\n",
    "    job = os.path.dirname(dBhistory).split('/')[-1]\n",
    "    resultdB[job] = dB\n",
    "    print(\"{:16s} {:.6f}dB\".format(job,max(dB)))\n",
    "\n",
    "if len(resultdB)==0:\n",
    "    print('Error : Shown Data not found!')\n",
    "else:\n",
    "    print('Loaded data files',len(resultdB))\n",
    "\n",
    "    if plot_type==0:\n",
    "        # plot\n",
    "        n_epoch = min([len(resultdB[k]) for k in resultdB])\n",
    "        for k in resultdB.keys():\n",
    "            resultdB[k]=resultdB[k][:n_epoch]\n",
    "        for k in resultdB.keys():\n",
    "            plt.plot(range(n_epoch), resultdB[k])\n",
    "    else:\n",
    "        # scatter\n",
    "        for k in resultdB.keys():\n",
    "            data = resultdB[k]\n",
    "            plt.scatter(range(len(data)), data)\n",
    "\n",
    "    plt.legend(resultdB.keys())\n",
    "    plt.xlabel(\"#epoch\")\n",
    "    plt.ylabel(\"PSNR(dB)\")\n",
    "    plt.show()"
   ]
  },
  {
   "cell_type": "code",
   "execution_count": null,
   "metadata": {},
   "outputs": [],
   "source": []
  }
 ],
 "metadata": {
  "kernelspec": {
   "display_name": "Python 3",
   "language": "python",
   "name": "python3"
  },
  "language_info": {
   "codemirror_mode": {
    "name": "ipython",
    "version": 3
   },
   "file_extension": ".py",
   "mimetype": "text/x-python",
   "name": "python",
   "nbconvert_exporter": "python",
   "pygments_lexer": "ipython3",
   "version": "3.8.5"
  }
 },
 "nbformat": 4,
 "nbformat_minor": 4
}
