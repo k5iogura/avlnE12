{
 "cells": [
  {
   "cell_type": "code",
   "execution_count": 3,
   "metadata": {},
   "outputs": [],
   "source": [
    "import os\n",
    "import numpy as np\n",
    "import matplotlib.pyplot as plt\n",
    "\n",
    "dBhistory_file = 'dBhistory.npy'\n",
    "srcnn_result   = './result/SRCNN/'  + dBhistory_file\n",
    "srcnn11_result = './result/SRCNN11/'+ dBhistory_file"
   ]
  },
  {
   "cell_type": "code",
   "execution_count": 5,
   "metadata": {},
   "outputs": [
    {
     "name": "stdout",
     "output_type": "stream",
     "text": [
      "load SRCNN Result ./result/SRCNN/dBhistory.npy 41\n",
      "Loaded data files 1\n"
     ]
    },
    {
     "data": {
      "image/png": "[encoded data removed]",
      "text/plain": [
       "<Figure size 432x288 with 1 Axes>"
      ]
     },
     "metadata": {
      "needs_background": "light"
     },
     "output_type": "display_data"
    }
   ],
   "source": [
    "plot_type = 1  # 0:plot 1:scatter\n",
    "\n",
    "resultdB = {}\n",
    "if os.path.exists(srcnn_result):\n",
    "    dB = np.load(srcnn_result)\n",
    "    resultdB['SRCNN'] = dB\n",
    "    print('load SRCNN Result',srcnn_result,len(dB))\n",
    "\n",
    "if os.path.exists(srcnn11_result):\n",
    "    dB = np.load(srcnn11_result)\n",
    "    resultdB['SRCNN11'] = dB\n",
    "    print('load SRCNN11 Result',srcnn11_result,len(dB))\n",
    "\n",
    "if len(resultdB)==0:\n",
    "    print('Error : Shown Data not found!')\n",
    "else:\n",
    "    print('Loaded data files',len(resultdB))\n",
    "\n",
    "if plot_type==0:\n",
    "    # plot\n",
    "    n_epoch = min([len(resultdB[k]) for k in resultdB])\n",
    "    for k in resultdB.keys():\n",
    "        resultdB[k]=resultdB[k][:n_epoch]\n",
    "    for k in resultdB.keys():\n",
    "        plt.plot(range(n_epoch), resultdB[k])\n",
    "else:\n",
    "    # scatter\n",
    "    for k in resultdB.keys():\n",
    "        data = resultdB[k]\n",
    "        plt.scatter(range(len(data)), data)\n",
    "\n",
    "plt.legend(resultdB.keys())\n",
    "plt.xlabel(\"#epoch\")\n",
    "plt.ylabel(\"dB\")\n",
    "plt.show()"
   ]
  },
  {
   "cell_type": "code",
   "execution_count": null,
   "metadata": {},
   "outputs": [],
   "source": []
  }
 ],
 "metadata": {
  "kernelspec": {
   "display_name": "Python 3",
   "language": "python",
   "name": "python3"
  },
  "language_info": {
   "codemirror_mode": {
    "name": "ipython",
    "version": 3
   },
   "file_extension": ".py",
   "mimetype": "text/x-python",
   "name": "python",
   "nbconvert_exporter": "python",
   "pygments_lexer": "ipython3",
   "version": "3.8.5"
  }
 },
 "nbformat": 4,
 "nbformat_minor": 4
}
