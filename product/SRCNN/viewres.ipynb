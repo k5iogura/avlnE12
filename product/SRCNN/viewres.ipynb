{
 "cells": [
  {
   "cell_type": "markdown",
   "metadata": {},
   "source": [
    "# SRCNN : View of Result  \n",
    ".npyフォーマットで保存されたGPUでの計算過程をグラフ化する  \n",
    "学習過程のPSNR遷移グラフ  "
   ]
  },
  {
   "cell_type": "code",
   "execution_count": 20,
   "metadata": {},
   "outputs": [],
   "source": [
    "import os\n",
    "from pathlib import Path\n",
    "import numpy as np\n",
    "import matplotlib.pyplot as plt\n",
    "\n",
    "dBhistory_file = 'dBhistory.npy'"
   ]
  },
  {
   "cell_type": "markdown",
   "metadata": {},
   "source": [
    "### 学習過程のPSNR(dB)グラフ  \n",
    "縦軸：PSNR(dB)  \n",
    "横軸：epoch 50000エポックを500エポックごとにdBを表示  \n",
    "凡例：  \n",
    "SRCNN-naive　データ拡張無し  \n",
    "SRCNN        データ拡張あり(flip, mirror, rotate)  \n",
    "SRCNN-c11    特徴抽出層の拡張　９x９と１１x１１のカーネルで特徴抽出  "
   ]
  },
  {
   "cell_type": "code",
   "execution_count": 21,
   "metadata": {},
   "outputs": [
    {
     "name": "stdout",
     "output_type": "stream",
     "text": [
      "SRCNN            MAX = 28.696995dB\n",
      "SRCNN-naive      MAX = 28.593029dB\n",
      "Loaded data files 2\n"
     ]
    },
    {
     "data": {
      "image/png": "[encoded data removed]",
      "text/plain": [
       "<Figure size 432x288 with 1 Axes>"
      ]
     },
     "metadata": {
      "needs_background": "light"
     },
     "output_type": "display_data"
    }
   ],
   "source": [
    "plot_type = 1  # 0:plot 1:scatter\n",
    "\n",
    "dBhistory_files = [str(d) for d in Path('result').glob('*/'+dBhistory_file)]\n",
    "resultdB = {}\n",
    "for dBhistory in dBhistory_files:\n",
    "    dB = np.load(dBhistory)\n",
    "    job = os.path.dirname(dBhistory).split('/')[-1]\n",
    "    resultdB[job] = dB\n",
    "    print(\"{:16s} MAX = {:.6f}dB\".format(job,max(dB)))\n",
    "\n",
    "if len(resultdB)==0:\n",
    "    print('Error : Shown Data not found!')\n",
    "else:\n",
    "    print('Loaded data files',len(resultdB))\n",
    "\n",
    "    if plot_type==0:\n",
    "        # plot\n",
    "        n_epoch = min([len(resultdB[k]) for k in resultdB])\n",
    "        for k in resultdB.keys():\n",
    "            resultdB[k]=resultdB[k][:n_epoch]\n",
    "        for k in resultdB.keys():\n",
    "            plt.plot(range(n_epoch), resultdB[k])\n",
    "    else:\n",
    "        # scatter\n",
    "        for k in resultdB.keys():\n",
    "            data = resultdB[k]\n",
    "            plt.scatter(range(len(data)), data)\n",
    "\n",
    "    plt.legend(resultdB.keys())\n",
    "    plt.xlabel(\"#epoch\")\n",
    "    plt.ylabel(\"PSNR(dB)\")\n",
    "    plt.show()"
   ]
  }
 ],
 "metadata": {
  "kernelspec": {
   "display_name": "Python 3",
   "language": "python",
   "name": "python3"
  },
  "language_info": {
   "codemirror_mode": {
    "name": "ipython",
    "version": 3
   },
   "file_extension": ".py",
   "mimetype": "text/x-python",
   "name": "python",
   "nbconvert_exporter": "python",
   "pygments_lexer": "ipython3",
   "version": "3.8.5"
  }
 },
 "nbformat": 4,
 "nbformat_minor": 4
}
