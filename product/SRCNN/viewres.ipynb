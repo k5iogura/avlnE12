{
 "cells": [
  {
   "cell_type": "code",
   "execution_count": null,
   "metadata": {},
   "outputs": [],
   "source": [
    "srcnndB   = [1.1,2.1,3.1,4.1,5.1,6.1, 10.5]\n",
    "srcnn11dB = [0,1,2,3,4,5]\n",
    "resultdB  = {'SRCNN':srcnndB, 'SRCNN11':srcnn11dB}\n",
    "\n",
    "plot_type = 1  # 0:plot 1:scatter"
   ]
  },
  {
   "cell_type": "code",
   "execution_count": null,
   "metadata": {},
   "outputs": [],
   "source": [
    "import matplotlib.pyplot as plt\n",
    "\n",
    "if plot_type==0:\n",
    "    n_epoch = min([len(resultdB[k]) for k in resultdB])\n",
    "    for k in resultdB.keys():\n",
    "        resultdB[k]=resultdB[k][:n_epoch]\n",
    "    for k in resultdB.keys():\n",
    "        plt.plot(range(n_epoch), resultdB[k])\n",
    "else:\n",
    "    for k in resultdB.keys():\n",
    "        data = resultdB[k]\n",
    "        plt.scatter(range(len(data)), data)\n",
    "\n",
    "plt.legend(resultdB.keys())\n",
    "plt.xlabel(\"#epoch\")\n",
    "plt.ylabel(\"dB\")\n",
    "plt.show()"
   ]
  },
  {
   "cell_type": "code",
   "execution_count": null,
   "metadata": {},
   "outputs": [],
   "source": []
  }
 ],
 "metadata": {
  "kernelspec": {
   "display_name": "Python 3",
   "language": "python",
   "name": "python3"
  },
  "language_info": {
   "codemirror_mode": {
    "name": "ipython",
    "version": 3
   },
   "file_extension": ".py",
   "mimetype": "text/x-python",
   "name": "python",
   "nbconvert_exporter": "python",
   "pygments_lexer": "ipython3",
   "version": "3.8.5"
  }
 },
 "nbformat": 4,
 "nbformat_minor": 4
}
